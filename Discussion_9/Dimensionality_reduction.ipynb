{
 "cells": [
  {
   "cell_type": "code",
   "execution_count": null,
   "metadata": {
    "ExecuteTime": {
     "end_time": "2019-03-09T00:49:07.591233Z",
     "start_time": "2019-03-09T00:49:07.578296Z"
    }
   },
   "outputs": [],
   "source": [
    "import numpy as np\n",
    "import matplotlib\n",
    "import matplotlib.pyplot as plt\n",
    "from time import time\n",
    "from matplotlib import offsetbox\n",
    "from sklearn import datasets\n",
    "from sklearn.decomposition import PCA\n",
    "from sklearn.manifold import TSNE\n",
    "import plotly.plotly as py\n",
    "import plotly.graph_objs as go\n",
    "import plotly.offline\n",
    "plotly.offline.init_notebook_mode(connected=True)\n",
    "matplotlib.rcParams[\"figure.figsize\"] = [10, 8]\n",
    "\n",
    "# import some data to play with\n",
    "iris = datasets.load_iris()\n",
    "dims = [0,2,3]\n",
    "columns = ['sepal_length','sepal_width','petal_length','petal_width']"
   ]
  },
  {
   "cell_type": "code",
   "execution_count": null,
   "metadata": {
    "ExecuteTime": {
     "end_time": "2019-03-09T00:49:37.872650Z",
     "start_time": "2019-03-09T00:49:34.358083Z"
    },
    "scrolled": false
   },
   "outputs": [],
   "source": [
    "# DATA: 3 dimensions\n",
    "trace = go.Scatter3d(x=iris.data[:,dims[0]],\n",
    "                   y=iris.data[:,dims[1]],\n",
    "                     z=iris.data[:,dims[2]],\n",
    "                   mode = 'markers',\n",
    "                   marker = dict(color=iris.target))\n",
    "data = [trace]\n",
    "\n",
    "layout=go.Layout(title='Iris dataset:',\n",
    "                 scene=dict(\n",
    "                 xaxis={'title':columns[dims[0]]},\n",
    "                 yaxis={'title':columns[dims[1]]},\n",
    "                 zaxis={'title':columns[dims[2]]}\n",
    "                 )\n",
    "                )\n",
    "\n",
    "fig=go.Figure(data=data, layout=layout)\n",
    "plotly.offline.iplot(fig)"
   ]
  },
  {
   "cell_type": "code",
   "execution_count": null,
   "metadata": {
    "ExecuteTime": {
     "end_time": "2019-03-09T00:52:24.269912Z",
     "start_time": "2019-03-09T00:52:23.958967Z"
    },
    "scrolled": false
   },
   "outputs": [],
   "source": [
    "# PCA on selected dims\n",
    "# Note that we can find PC1, PC2, and PC3 as the orthogonal axes with the most, second-most, and least variances from\n",
    "# the previous plot.\n",
    "x_pca = PCA(n_components=3).fit_transform(iris.data[:,dims])\n",
    "trace = go.Scatter3d(x=x_pca[:,0],\n",
    "                   y=x_pca[:,1],\n",
    "                     z=x_pca[:,2],\n",
    "                   mode = 'markers',\n",
    "                   marker = dict(color=iris.target))\n",
    "data = [trace]\n",
    "\n",
    "layout=go.Layout(title='Iris dataset:',\n",
    "                 scene=dict(\n",
    "                 xaxis={'title':'PC1'},\n",
    "                 yaxis={'title':'PC2'},\n",
    "                 zaxis={'title':'PC3'}\n",
    "                 )\n",
    "                )\n",
    "\n",
    "fig=go.Figure(data=data, layout=layout)\n",
    "plotly.offline.iplot(fig)"
   ]
  },
  {
   "cell_type": "code",
   "execution_count": null,
   "metadata": {
    "ExecuteTime": {
     "end_time": "2019-03-09T00:54:03.917168Z",
     "start_time": "2019-03-09T00:54:03.757485Z"
    },
    "scrolled": true
   },
   "outputs": [],
   "source": [
    "# PCA on all dims\n",
    "# PCA is a simple, effective way to reduce dimensions.\n",
    "x_pca = PCA(n_components=3).fit_transform(iris.data)\n",
    "trace = go.Scatter3d(x=x_pca[:,0],\n",
    "                   y=x_pca[:,1],\n",
    "                     z=x_pca[:,2],\n",
    "                   mode = 'markers',\n",
    "                   marker = dict(color=iris.target))\n",
    "data = [trace]\n",
    "\n",
    "layout=go.Layout(title='Iris dataset:',\n",
    "                 scene=dict(\n",
    "                 xaxis={'title':'PC1'},\n",
    "                 yaxis={'title':'PC2'},\n",
    "                 zaxis={'title':'PC3'}\n",
    "                 )\n",
    "                )\n",
    "\n",
    "fig=go.Figure(data=data, layout=layout)\n",
    "plotly.offline.iplot(fig)"
   ]
  },
  {
   "cell_type": "code",
   "execution_count": null,
   "metadata": {
    "ExecuteTime": {
     "end_time": "2019-03-09T00:54:45.111434Z",
     "start_time": "2019-03-09T00:54:43.115451Z"
    }
   },
   "outputs": [],
   "source": [
    "# T-SNE\n",
    "# We really only need 2 dimensions to cluster.\n",
    "# \"It converts similarities between data points to joint probabilities and tries to minimize the Kullback-Leibler \n",
    "# divergence between the joint probabilities of the low-dimensional embedding and the high-dimensional data.\"\n",
    "# -sklearn\n",
    "x_tsne = TSNE(n_components=2).fit_transform(iris.data)\n",
    "trace = go.Scatter(x=x_tsne[:,0],\n",
    "                   y=x_tsne[:,1],\n",
    "                   mode = 'markers',\n",
    "                   marker = dict(color=iris.target))\n",
    "data = [trace]\n",
    "\n",
    "layout=go.Layout(title='Iris dataset:',\n",
    "                 xaxis={'title':'t-SNE 1'},\n",
    "                 yaxis={'title':'t-SNE 2'})\n",
    "\n",
    "fig=go.Figure(data=data, layout=layout)\n",
    "plotly.offline.iplot(fig)"
   ]
  },
  {
   "cell_type": "code",
   "execution_count": null,
   "metadata": {
    "ExecuteTime": {
     "end_time": "2019-03-08T04:35:52.640832Z",
     "start_time": "2019-03-08T04:35:50.615540Z"
    }
   },
   "outputs": [],
   "source": [
    "x_tsne = TSNE(n_components=3).fit_transform(iris.data)\n",
    "trace = go.Scatter3d(x=x_tsne[:,0],\n",
    "                   y=x_tsne[:,1],\n",
    "                     z=x_tsne[:,2],\n",
    "                   mode = 'markers',\n",
    "                   marker = dict(color=iris.target))\n",
    "data = [trace]\n",
    "\n",
    "layout=go.Layout(title='Iris dataset:',\n",
    "                 scene=dict(\n",
    "                 xaxis={'title':'t-SNE 1'},\n",
    "                 yaxis={'title':'t-SNE 2'},\n",
    "                 zaxis={'title':'t-SNE 3'}\n",
    "                 )\n",
    "                )\n",
    "\n",
    "fig=go.Figure(data=data, layout=layout)\n",
    "plotly.offline.iplot(fig)"
   ]
  },
  {
   "cell_type": "code",
   "execution_count": null,
   "metadata": {
    "ExecuteTime": {
     "end_time": "2019-03-09T00:55:12.523546Z",
     "start_time": "2019-03-09T00:55:12.520145Z"
    }
   },
   "outputs": [],
   "source": [
    "## Digits\n",
    "# Code adapted from: \n",
    "# https://scikit-learn.org/stable/auto_examples/manifold/plot_lle_digits.html#sphx-glr-auto-examples-manifold-plot-lle-digits-py\n",
    "# Authors: Fabian Pedregosa <fabian.pedregosa@inria.fr>\n",
    "#          Olivier Grisel <olivier.grisel@ensta.org>\n",
    "#          Mathieu Blondel <mathieu@mblondel.org>\n",
    "#          Gael Varoquaux\n",
    "# License: BSD 3 clause (C) INRIA 2011"
   ]
  },
  {
   "cell_type": "code",
   "execution_count": null,
   "metadata": {
    "ExecuteTime": {
     "end_time": "2019-03-09T00:55:22.997365Z",
     "start_time": "2019-03-09T00:55:22.853117Z"
    }
   },
   "outputs": [],
   "source": [
    "digits = datasets.load_digits()"
   ]
  },
  {
   "cell_type": "code",
   "execution_count": null,
   "metadata": {
    "ExecuteTime": {
     "end_time": "2019-03-09T00:55:23.727901Z",
     "start_time": "2019-03-09T00:55:23.404544Z"
    },
    "code_folding": [],
    "scrolled": false
   },
   "outputs": [],
   "source": [
    "n_neighbors = 30\n",
    "\n",
    "\n",
    "#----------------------------------------------------------------------\n",
    "# Scale and visualize the embedding vectors\n",
    "def plot_embedding(X, y, title=None):\n",
    "    x_min, x_max = np.min(X, 0), np.max(X, 0)\n",
    "    X = (X - x_min) / (x_max - x_min)\n",
    "\n",
    "    plt.figure()\n",
    "    ax = plt.subplot(111)\n",
    "    for i in range(X.shape[0]):\n",
    "        plt.text(X[i, 0], X[i, 1], str(y[i]),\n",
    "                 color=plt.cm.Set1(y[i] / 10.),\n",
    "                 fontdict={'weight': 'bold', 'size': 9})\n",
    "\n",
    "    if hasattr(offsetbox, 'AnnotationBbox'):\n",
    "        # only print thumbnails with matplotlib > 1.0\n",
    "        shown_images = np.array([[1., 1.]])  # just something big\n",
    "        for i in range(X.shape[0]):\n",
    "            dist = np.sum((X[i] - shown_images) ** 2, 1)\n",
    "            if np.min(dist) < 4e-3:\n",
    "                # don't show points that are too close\n",
    "                continue\n",
    "            shown_images = np.r_[shown_images, [X[i]]]\n",
    "            imagebox = offsetbox.AnnotationBbox(\n",
    "                offsetbox.OffsetImage(digits.images[i], cmap=plt.cm.gray_r),\n",
    "                X[i])\n",
    "            ax.add_artist(imagebox)\n",
    "    plt.xticks([]), plt.yticks([])\n",
    "    if title is not None:\n",
    "        plt.title(title)\n",
    "\n",
    "\n",
    "#----------------------------------------------------------------------\n",
    "# Plot images of the digits\n",
    "n_img_per_row = 10\n",
    "img = np.zeros((10 * n_img_per_row, 10 * n_img_per_row))\n",
    "for i in range(n_img_per_row):\n",
    "    ix = 10 * i + 1\n",
    "    for j in range(n_img_per_row):\n",
    "        iy = 10 * j + 1\n",
    "        img[ix:ix + 8, iy:iy + 8] = digits.data[i * n_img_per_row + j].reshape((8, 8))\n",
    "\n",
    "plt.imshow(img, cmap=plt.cm.binary)\n",
    "plt.xticks([])\n",
    "plt.yticks([])\n",
    "plt.title('A selection from the 64-dimensional digits dataset')"
   ]
  },
  {
   "cell_type": "code",
   "execution_count": null,
   "metadata": {
    "ExecuteTime": {
     "end_time": "2019-03-09T00:55:54.359218Z",
     "start_time": "2019-03-09T00:55:41.218598Z"
    }
   },
   "outputs": [],
   "source": [
    "#----------------------------------------------------------------------\n",
    "# Projection on to the first 2 principal components\n",
    "\n",
    "print(\"Computing PCA projection\")\n",
    "t0 = time()\n",
    "X_pca = PCA(n_components=2).fit_transform(digits.data)\n",
    "plot_embedding(X_pca, digits.target,\n",
    "               \"Principal Components projection of the digits (time %.2fs)\" %\n",
    "               (time() - t0))"
   ]
  },
  {
   "cell_type": "code",
   "execution_count": null,
   "metadata": {
    "ExecuteTime": {
     "end_time": "2019-03-09T00:56:23.294579Z",
     "start_time": "2019-03-09T00:55:54.364325Z"
    }
   },
   "outputs": [],
   "source": [
    "#----------------------------------------------------------------------\n",
    "# t-SNE embedding of the digits dataset\n",
    "print(\"Computing t-SNE embedding\")\n",
    "tsne = TSNE(n_components=2, init='pca', random_state=0)\n",
    "t0 = time()\n",
    "X_tsne = tsne.fit_transform(digits.data)\n",
    "\n",
    "plot_embedding(X_tsne,digits.target,\n",
    "               \"t-SNE embedding of the digits (time %.2fs)\" %\n",
    "               (time() - t0))\n",
    "\n",
    "plt.show()"
   ]
  },
  {
   "cell_type": "code",
   "execution_count": null,
   "metadata": {},
   "outputs": [],
   "source": []
  }
 ],
 "metadata": {
  "kernelspec": {
   "display_name": "Python 3",
   "language": "python",
   "name": "python3"
  },
  "language_info": {
   "codemirror_mode": {
    "name": "ipython",
    "version": 3
   },
   "file_extension": ".py",
   "mimetype": "text/x-python",
   "name": "python",
   "nbconvert_exporter": "python",
   "pygments_lexer": "ipython3",
   "version": "3.6.7"
  }
 },
 "nbformat": 4,
 "nbformat_minor": 2
}
